{
 "cells": [
  {
   "cell_type": "code",
   "execution_count": null,
   "metadata": {
    "collapsed": true
   },
   "outputs": [],
   "source": []
  }
 ],
 "metadata": {
  "signature": "sha256:9cecea3595a808fb9b8ce2e84af427684d5c1e64385cb36870843087bd4b4236"
 },
 "nbformat": 4,
 "nbformat_minor": 0
}