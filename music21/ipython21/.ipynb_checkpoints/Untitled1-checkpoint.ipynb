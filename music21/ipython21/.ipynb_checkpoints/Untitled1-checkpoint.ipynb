{
 "cells": [],
 "metadata": {
  "signature": "sha256:d997faa4fda073bf9048be90f7e43a0e9dcc0d428c243d0838e198e2c7df1d9b"
 },
 "nbformat": 4,
 "nbformat_minor": 0
}